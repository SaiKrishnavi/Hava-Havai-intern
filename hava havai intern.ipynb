{
 "cells": [
  {
   "cell_type": "code",
   "execution_count": 14,
   "id": "9a5b13ad-de0e-49e4-b989-75c85f45a302",
   "metadata": {},
   "outputs": [
    {
     "name": "stdout",
     "output_type": "stream",
     "text": [
      "Requirement already satisfied: pinecone in c:\\users\\saikr\\anaconda3\\lib\\site-packages (5.3.1)\n",
      "Requirement already satisfied: certifi>=2019.11.17 in c:\\users\\saikr\\anaconda3\\lib\\site-packages (from pinecone) (2024.8.30)\n",
      "Requirement already satisfied: pinecone-plugin-inference<2.0.0,>=1.1.0 in c:\\users\\saikr\\anaconda3\\lib\\site-packages (from pinecone) (1.1.0)\n",
      "Requirement already satisfied: pinecone-plugin-interface<0.0.8,>=0.0.7 in c:\\users\\saikr\\anaconda3\\lib\\site-packages (from pinecone) (0.0.7)\n",
      "Requirement already satisfied: python-dateutil>=2.5.3 in c:\\users\\saikr\\anaconda3\\lib\\site-packages (from pinecone) (2.9.0.post0)\n",
      "Requirement already satisfied: tqdm>=4.64.1 in c:\\users\\saikr\\anaconda3\\lib\\site-packages (from pinecone) (4.66.4)\n",
      "Requirement already satisfied: typing-extensions>=3.7.4 in c:\\users\\saikr\\anaconda3\\lib\\site-packages (from pinecone) (4.11.0)\n",
      "Requirement already satisfied: urllib3>=1.26.5 in c:\\users\\saikr\\anaconda3\\lib\\site-packages (from pinecone) (2.2.2)\n",
      "Requirement already satisfied: six>=1.5 in c:\\users\\saikr\\anaconda3\\lib\\site-packages (from python-dateutil>=2.5.3->pinecone) (1.16.0)\n",
      "Requirement already satisfied: colorama in c:\\users\\saikr\\anaconda3\\lib\\site-packages (from tqdm>=4.64.1->pinecone) (0.4.6)\n"
     ]
    }
   ],
   "source": [
    "!pip install pinecone"
   ]
  },
  {
   "cell_type": "code",
   "execution_count": 75,
   "id": "5bc525b8-a2d5-4ef2-8c77-06fdde6a1e7a",
   "metadata": {},
   "outputs": [],
   "source": [
    "import requests\n",
    "import pinecone\n",
    "import json\n",
    "from datetime import datetime\n"
   ]
  },
  {
   "cell_type": "code",
   "execution_count": 143,
   "id": "ba788ddc-4b15-46b3-a6dc-16e41eff8c4f",
   "metadata": {},
   "outputs": [
    {
     "name": "stdout",
     "output_type": "stream",
     "text": [
      "Collecting openai\n",
      "  Downloading openai-1.52.2-py3-none-any.whl.metadata (24 kB)\n",
      "Requirement already satisfied: anyio<5,>=3.5.0 in c:\\users\\saikr\\anaconda3\\lib\\site-packages (from openai) (4.2.0)\n",
      "Requirement already satisfied: distro<2,>=1.7.0 in c:\\users\\saikr\\anaconda3\\lib\\site-packages (from openai) (1.9.0)\n",
      "Requirement already satisfied: httpx<1,>=0.23.0 in c:\\users\\saikr\\anaconda3\\lib\\site-packages (from openai) (0.27.0)\n",
      "Collecting jiter<1,>=0.4.0 (from openai)\n",
      "  Downloading jiter-0.6.1-cp312-none-win_amd64.whl.metadata (5.3 kB)\n",
      "Requirement already satisfied: pydantic<3,>=1.9.0 in c:\\users\\saikr\\anaconda3\\lib\\site-packages (from openai) (2.5.3)\n",
      "Requirement already satisfied: sniffio in c:\\users\\saikr\\anaconda3\\lib\\site-packages (from openai) (1.3.0)\n",
      "Requirement already satisfied: tqdm>4 in c:\\users\\saikr\\anaconda3\\lib\\site-packages (from openai) (4.66.4)\n",
      "Requirement already satisfied: typing-extensions<5,>=4.11 in c:\\users\\saikr\\anaconda3\\lib\\site-packages (from openai) (4.11.0)\n",
      "Requirement already satisfied: idna>=2.8 in c:\\users\\saikr\\anaconda3\\lib\\site-packages (from anyio<5,>=3.5.0->openai) (3.7)\n",
      "Requirement already satisfied: certifi in c:\\users\\saikr\\anaconda3\\lib\\site-packages (from httpx<1,>=0.23.0->openai) (2024.8.30)\n",
      "Requirement already satisfied: httpcore==1.* in c:\\users\\saikr\\anaconda3\\lib\\site-packages (from httpx<1,>=0.23.0->openai) (1.0.2)\n",
      "Requirement already satisfied: h11<0.15,>=0.13 in c:\\users\\saikr\\anaconda3\\lib\\site-packages (from httpcore==1.*->httpx<1,>=0.23.0->openai) (0.14.0)\n",
      "Requirement already satisfied: annotated-types>=0.4.0 in c:\\users\\saikr\\anaconda3\\lib\\site-packages (from pydantic<3,>=1.9.0->openai) (0.6.0)\n",
      "Requirement already satisfied: pydantic-core==2.14.6 in c:\\users\\saikr\\anaconda3\\lib\\site-packages (from pydantic<3,>=1.9.0->openai) (2.14.6)\n",
      "Requirement already satisfied: colorama in c:\\users\\saikr\\anaconda3\\lib\\site-packages (from tqdm>4->openai) (0.4.6)\n",
      "Downloading openai-1.52.2-py3-none-any.whl (386 kB)\n",
      "   ---------------------------------------- 0.0/386.9 kB ? eta -:--:--\n",
      "   - -------------------------------------- 10.2/386.9 kB ? eta -:--:--\n",
      "   ---------- ----------------------------- 102.4/386.9 kB 1.5 MB/s eta 0:00:01\n",
      "   ---------------------------------------  378.9/386.9 kB 2.9 MB/s eta 0:00:01\n",
      "   ---------------------------------------- 386.9/386.9 kB 3.0 MB/s eta 0:00:00\n",
      "Downloading jiter-0.6.1-cp312-none-win_amd64.whl (198 kB)\n",
      "   ---------------------------------------- 0.0/199.0 kB ? eta -:--:--\n",
      "   ---------------------------------------- 199.0/199.0 kB ? eta 0:00:00\n",
      "Installing collected packages: jiter, openai\n",
      "Successfully installed jiter-0.6.1 openai-1.52.2\n"
     ]
    }
   ],
   "source": [
    "!pip install openai"
   ]
  },
  {
   "cell_type": "code",
   "execution_count": 87,
   "id": "64f94bfc-598d-46ed-b0fb-f95bc9ae3f3a",
   "metadata": {
    "scrolled": true
   },
   "outputs": [
    {
     "name": "stdout",
     "output_type": "stream",
     "text": [
      "Index 'traveljourney' already exists.\n"
     ]
    }
   ],
   "source": [
    "import os\n",
    "from pinecone import Pinecone, ServerlessSpec\n",
    "\n",
    "\n",
    "pc = Pinecone(\n",
    "    api_key=os.environ.get(\"PINECONE_API_KEY\", \"1b4e6eb1-0270-4ded-b66f-ca77c8d5b980\"),\n",
    "    environment=\"us-east-1\" \n",
    ")\n",
    "\n",
    "\n",
    "index_name = \"traveljourney\"\n",
    "embedding_dimension = 3072  \n",
    "\n",
    "\n",
    "if index_name not in pc.list_indexes().names():\n",
    "    pc.create_index(\n",
    "        name=index_name,\n",
    "        dimension=embedding_dimension,\n",
    "        metric=\"cosine\",\n",
    "        spec=ServerlessSpec(\n",
    "            cloud=\"aws\",  \n",
    "            region=\"us-west-1\"  \n",
    "        )\n",
    "    )\n",
    "    print(f\"Index '{index_name}' created.\")\n",
    "else:\n",
    "    print(f\"Index '{index_name}' already exists.\")\n",
    "\n"
   ]
  },
  {
   "cell_type": "code",
   "execution_count": 95,
   "id": "05d348b3-6b4d-40be-a4d5-32950c8d9947",
   "metadata": {},
   "outputs": [],
   "source": [
    "\n",
    "\n",
    "with open(\"C:\\\\Users\\\\saikr\\\\Downloads\\\\Journey_Details.json\") as f:\n",
    "    data = json.load(f)\n"
   ]
  },
  {
   "cell_type": "code",
   "execution_count": 159,
   "id": "d38a4e3f-d0a8-4fe7-b581-e86a700fb22c",
   "metadata": {},
   "outputs": [],
   "source": [
    "def create_vector_representation(segment):\n",
    "    \n",
    "    return [float(len(segment[\"flight_number\"]))] * 3072 "
   ]
  },
  {
   "cell_type": "code",
   "execution_count": 137,
   "id": "53494052-4edf-4550-a8c7-141f7d1c484d",
   "metadata": {},
   "outputs": [],
   "source": [
    "def flatten_metadata(segment):\n",
    "    return {\n",
    "        \"flight_number\": segment[\"flight_number\"],\n",
    "        \"departure_airport\": segment[\"departure\"][\"airport\"],\n",
    "        \"departure_iata\": segment[\"departure\"][\"iata\"],\n",
    "        \"departure_date\": segment[\"departure\"][\"date\"],\n",
    "        \"arrival_airport\": segment[\"arrival\"][\"airport\"],\n",
    "        \"arrival_iata\": segment[\"arrival\"][\"iata\"],\n",
    "        \"arrival_date\": segment[\"arrival\"][\"date\"]\n",
    "    }"
   ]
  },
  {
   "cell_type": "code",
   "execution_count": 139,
   "id": "bc669043-2fe5-4bb1-a0c4-6d4e651bd6a4",
   "metadata": {},
   "outputs": [],
   "source": [
    "for flight in data[\"user\"][\"flights\"]:\n",
    "    for segment in flight[\"segments\"]:\n",
    "        \n",
    "        vector = create_vector_representation(segment)\n",
    "        \n",
    "        \n",
    "        metadata = flatten_metadata(segment)\n",
    "        \n",
    "        \n",
    "        index.upsert(\n",
    "            vectors=[\n",
    "                {\n",
    "                    \"id\": segment[\"flight_number\"],   \n",
    "                    \"values\": vector,                 \n",
    "                    \"metadata\": metadata              \n",
    "                }\n",
    "            ]\n",
    "        )"
   ]
  },
  {
   "cell_type": "code",
   "execution_count": 157,
   "id": "40f910cd-b5a6-4149-a985-cb1013859488",
   "metadata": {},
   "outputs": [],
   "source": [
    "import openai\n",
    "import pinecone\n",
    "\n",
    "\n",
    "def create_vector_representation_from_text(query):\n",
    "    \n",
    "    embedding = openai.Embedding.create(\n",
    "        model=\"text-embedding-ada-002\",\n",
    "        input=query\n",
    "    )\n",
    "    return embedding['data'][0]['embedding']  \n",
    "\n",
    "def retrieve_info(query):\n",
    "    \n",
    "    query_vector = create_vector_representation_from_text(query)\n",
    "\n",
    "    \n",
    "    search_results = index.query(query_vector, top_k=3, include_metadata=True)\n",
    "    return search_results\n",
    "\n",
    "def generate_response(query):\n",
    "    \n",
    "    search_results = retrieve_info(query)\n",
    "\n",
    "    \n",
    "    prompt = (\n",
    "        f\"User asked: '{query}'. Based on the relevant information: {search_results}, \"\n",
    "        \"generate a helpful and context-aware response.\"\n",
    "    )\n",
    "    response = openai.Completion.create(\n",
    "        model=\"text-davinci-003\",\n",
    "        prompt=prompt,\n",
    "        max_tokens=150\n",
    "    )\n",
    "    return response.choices[0].text\n"
   ]
  },
  {
   "cell_type": "code",
   "execution_count": 155,
   "id": "6ddf1475-638b-4b78-8db7-6d24a143cba3",
   "metadata": {},
   "outputs": [
    {
     "name": "stdout",
     "output_type": "stream",
     "text": [
      "An error occurred: (400)\n",
      "Reason: Bad Request\n",
      "HTTP response headers: HTTPHeaderDict({'Date': 'Tue, 29 Oct 2024 12:54:11 GMT', 'Content-Type': 'application/json', 'Content-Length': '76', 'Connection': 'keep-alive', 'x-pinecone-request-latency-ms': '1', 'x-pinecone-request-id': '6965481041917244887', 'x-envoy-upstream-service-time': '1', 'server': 'envoy'})\n",
      "HTTP response body: {\"code\":3,\"message\":\"Either 'vector' or 'ID' must be provided\",\"details\":[]}\n",
      "\n",
      "Your layover is 55m.\n"
     ]
    }
   ],
   "source": [
    "def handle_flight_time_query(flight_number):\n",
    "    \n",
    "    try:\n",
    "        \n",
    "        response = index.query(vector=None, filter={\"flight_number\": flight_number}, top_k=1, include_metadata=True)\n",
    "        \n",
    "        if response and response['matches']:\n",
    "            segment = response['matches'][0]['metadata']\n",
    "            departure_time = segment.get(\"departure_date\", \"N/A\")\n",
    "            arrival_time = segment.get(\"arrival_date\", \"N/A\")\n",
    "            return f\"Your flight {flight_number} departs at {departure_time} and arrives at {arrival_time}.\"\n",
    "        else:\n",
    "            return f\"No details found for flight {flight_number}.\"\n",
    "    except Exception as e:\n",
    "        return f\"An error occurred: {e}\"\n",
    "\n",
    "def handle_layover_query():\n",
    "    try:\n",
    "        \n",
    "        layover_duration = data[\"user\"][\"flights\"][0].get(\"layover_duration\", \"N/A\")\n",
    "        return f\"Your layover is {layover_duration}.\"\n",
    "    except KeyError:\n",
    "        return \"Layover duration information is not available.\"\n",
    "\n",
    "\n",
    "print(handle_flight_time_query(\"ET846\"))\n",
    "print(handle_layover_query())\n"
   ]
  },
  {
   "cell_type": "code",
   "execution_count": 153,
   "id": "4a4143b4-5bc4-4383-9a69-2a9278f53027",
   "metadata": {},
   "outputs": [],
   "source": [
    "def handle_question(query):\n",
    "    if \"flight time\" in query:\n",
    "       \n",
    "        flight_number = \"ET846\" \n",
    "        return handle_flight_time_query(flight_number)\n",
    "    \n",
    "    elif \"layover\" in query:\n",
    "        \n",
    "        return handle_layover_query()\n",
    "    \n",
    "    else:\n",
    "        \n",
    "        return generate_response(query)\n"
   ]
  },
  {
   "cell_type": "code",
   "execution_count": 151,
   "id": "6d2cf759-db1e-4bc0-a788-b4b5f3e264da",
   "metadata": {},
   "outputs": [
    {
     "data": {
      "text/plain": [
       "'Your layover is 55m.'"
      ]
     },
     "execution_count": 151,
     "metadata": {},
     "output_type": "execute_result"
    }
   ],
   "source": [
    "handle_question(\"can you tell me about the layover time for my journey?\")"
   ]
  },
  {
   "cell_type": "code",
   "execution_count": null,
   "id": "49f7256c-18cb-45d3-ba2d-1e8c744ee56d",
   "metadata": {},
   "outputs": [],
   "source": []
  }
 ],
 "metadata": {
  "kernelspec": {
   "display_name": "Python 3 (ipykernel)",
   "language": "python",
   "name": "python3"
  },
  "language_info": {
   "codemirror_mode": {
    "name": "ipython",
    "version": 3
   },
   "file_extension": ".py",
   "mimetype": "text/x-python",
   "name": "python",
   "nbconvert_exporter": "python",
   "pygments_lexer": "ipython3",
   "version": "3.12.4"
  }
 },
 "nbformat": 4,
 "nbformat_minor": 5
}
